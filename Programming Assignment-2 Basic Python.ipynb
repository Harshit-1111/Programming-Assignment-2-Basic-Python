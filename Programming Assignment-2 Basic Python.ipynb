{
 "cells": [
  {
   "cell_type": "code",
   "execution_count": 3,
   "id": "97465014",
   "metadata": {},
   "outputs": [
    {
     "name": "stdout",
     "output_type": "stream",
     "text": [
      "Enter Any Number 50\n",
      "50 km is equal to  31.15 Miles\n"
     ]
    }
   ],
   "source": [
    "#Q1 Write a Python program to convert kilometers to miles?\n",
    "#1km=o.623 miles\n",
    "num= int(input(\"Enter Any Number \"))\n",
    "print (num,\"km is equal to \",num*0.623,\"Miles\")"
   ]
  },
  {
   "cell_type": "code",
   "execution_count": 5,
   "id": "bd368e3e",
   "metadata": {},
   "outputs": [
    {
     "name": "stdout",
     "output_type": "stream",
     "text": [
      "Enter Any Number 100\n",
      "100 degree celcius is equals to 212.0 Degrees Fahrenheit\n"
     ]
    }
   ],
   "source": [
    "#Q2 Write a Python program to convert Celsius to Fahrenheit?\n",
    "#0 degree celcius = 32 degree Fahrenheit\n",
    "num=int(input(\"Enter Any Number \"))\n",
    "print(num,\"degree celcius is equals to\",(num*9/5)+32,\"Degrees Fahrenheit\")"
   ]
  },
  {
   "cell_type": "code",
   "execution_count": 8,
   "id": "7cbe165d",
   "metadata": {},
   "outputs": [
    {
     "name": "stdout",
     "output_type": "stream",
     "text": [
      "Enter the Year 2022\n",
      "Enter the Month7\n",
      "     July 2022\n",
      "Mo Tu We Th Fr Sa Su\n",
      "             1  2  3\n",
      " 4  5  6  7  8  9 10\n",
      "11 12 13 14 15 16 17\n",
      "18 19 20 21 22 23 24\n",
      "25 26 27 28 29 30 31\n",
      "\n"
     ]
    }
   ],
   "source": [
    "#Q3 Write a Python program to display calendar?\n",
    "import calendar\n",
    "Year= int(input(\"Enter the Year \"))\n",
    "Month= int(input(\"Enter the Month\"))\n",
    "print(calendar.month(Year,Month))"
   ]
  },
  {
   "cell_type": "code",
   "execution_count": 14,
   "id": "ce12dfc9",
   "metadata": {},
   "outputs": [
    {
     "name": "stdout",
     "output_type": "stream",
     "text": [
      "The value of a is 10 The value of b is 5\n"
     ]
    }
   ],
   "source": [
    "#Q4 Write a Python program to swap two variables without temp variable?\n",
    "a=5\n",
    "b=10\n",
    "a,b=b,a\n",
    "print(\"The value of a is\",a,\"The value of b is\",b)\n"
   ]
  },
  {
   "cell_type": "code",
   "execution_count": null,
   "id": "84efa18e",
   "metadata": {},
   "outputs": [],
   "source": []
  },
  {
   "cell_type": "code",
   "execution_count": null,
   "id": "754feaba",
   "metadata": {},
   "outputs": [],
   "source": []
  },
  {
   "cell_type": "code",
   "execution_count": null,
   "id": "f259e5b0",
   "metadata": {},
   "outputs": [],
   "source": []
  }
 ],
 "metadata": {
  "kernelspec": {
   "display_name": "Python 3 (ipykernel)",
   "language": "python",
   "name": "python3"
  },
  "language_info": {
   "codemirror_mode": {
    "name": "ipython",
    "version": 3
   },
   "file_extension": ".py",
   "mimetype": "text/x-python",
   "name": "python",
   "nbconvert_exporter": "python",
   "pygments_lexer": "ipython3",
   "version": "3.9.7"
  }
 },
 "nbformat": 4,
 "nbformat_minor": 5
}
